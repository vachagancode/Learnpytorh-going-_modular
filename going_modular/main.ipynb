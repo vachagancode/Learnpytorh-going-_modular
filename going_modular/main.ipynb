{
 "cells": [
  {
   "cell_type": "code",
   "execution_count": 1,
   "metadata": {},
   "outputs": [
    {
     "name": "stdout",
     "output_type": "stream",
     "text": [
      "Writing going_modular/get_data.py\n"
     ]
    }
   ],
   "source": [
    "%%writefile going_modular/get_data.py\n",
    "\n",
    "import os\n",
    "import requests\n",
    "import zipfile \n",
    "from pathlib import Path\n",
    "\n",
    "# setup the data path\n",
    "data_path = Path(\"data/\")\n",
    "image_path = data_path / 'pizza_steak_sushi'\n",
    "\n",
    "if image_path.is_dir():\n",
    "\tprint(f\"{image_path} already exists.\")\n",
    "else:\n",
    "\tprint(f\"Did not found any {image_path} directory, creating one...\")\n",
    "\timage_path.mkdir(parents=True, exist_ok=True)\n",
    "\n",
    "# Downloading pizza, sushi, steak\n",
    "with open(data_path / \"pizza_steak_sushi.zip\", \"wb\") as file:\n",
    "\tresponse = requests.get(\"https://github.com/mrdbourke/pytorch-deep-learning/raw/main/data/pizza_steak_sushi.zip\")\n",
    "\tprint(f\"Downloading pizza, steak, sushi...\")\n",
    "\tfile.write(response.content)\n",
    "\n",
    "# Unzip pizza, steak, sushi data\n",
    "with zipfile.ZipFile(data_path / \"pizza_steak_sushi.zip\", \"r\") as zip_ref:\n",
    "\tprint(f\"Unzipping pizza, steak, sushi...\")\n",
    "\tzip_ref.extractall(image_path)\n",
    "\n",
    "# remove the zip file\n",
    "os.remove(data_path / 'pizza_steak_sushi.zip')"
   ]
  },
  {
   "cell_type": "code",
   "execution_count": 3,
   "metadata": {},
   "outputs": [],
   "source": [
    "train_dir = image_path / 'train'\n",
    "test_dir = image_path / 'test'"
   ]
  },
  {
   "cell_type": "code",
   "execution_count": 33,
   "metadata": {},
   "outputs": [],
   "source": [
    "from torchvision import transforms\n",
    "\n",
    "transform = transforms.Compose([\n",
    "\ttransforms.Resize((64, 64)),\n",
    "\ttransforms.ToTensor()\n",
    "])"
   ]
  },
  {
   "cell_type": "code",
   "execution_count": 34,
   "metadata": {},
   "outputs": [],
   "source": [
    "import torch\n",
    "from going_modular import data_setup, model_builder, engine\n",
    "\n",
    "device = \"cuda\" if torch.cuda.is_available() else \"cpu\"\n",
    "\n",
    "# Create train/test dataloaders and get the class_names list\n",
    "train_dataloader, test_dataloader, class_names = data_setup.create_dataloaders(\n",
    "\ttrain_dir=train_dir,\n",
    "\ttest_dir=test_dir,\n",
    "\ttransform=transform,\n",
    "\tbatch_size=32\n",
    ")\n",
    "\n",
    "torch.manual_seed(42)\n",
    "model_v01 = model_builder.TinyVGG(\n",
    "\tinput_shape=3,\n",
    "\thidden_units=10,\n",
    "\toutput_shape=len(class_names)\n",
    ").to(device)\n",
    "\n"
   ]
  },
  {
   "cell_type": "code",
   "execution_count": 35,
   "metadata": {},
   "outputs": [],
   "source": [
    "NUM_EPOCHS = 4"
   ]
  },
  {
   "cell_type": "code",
   "execution_count": 36,
   "metadata": {},
   "outputs": [],
   "source": [
    "optimizer = torch.optim.SGD(model.parameters(), lr=0.01)\n",
    "loss_fn = torch.nn.CrossEntropyLoss()"
   ]
  },
  {
   "cell_type": "code",
   "execution_count": 37,
   "metadata": {},
   "outputs": [
    {
     "name": "stderr",
     "output_type": "stream",
     "text": [
      " 25%|██▌       | 1/4 [00:15<00:45, 15.13s/it]"
     ]
    },
    {
     "name": "stdout",
     "output_type": "stream",
     "text": [
      "Epoch: 1 | train_loss: 1.0956 | train_acc: 0.4023 | test_loss: 1.0898 | test_acc: 0.5417\n"
     ]
    },
    {
     "name": "stderr",
     "output_type": "stream",
     "text": [
      " 50%|█████     | 2/4 [00:28<00:27, 13.97s/it]"
     ]
    },
    {
     "name": "stdout",
     "output_type": "stream",
     "text": [
      "Epoch: 2 | train_loss: 1.1035 | train_acc: 0.2812 | test_loss: 1.0898 | test_acc: 0.5417\n"
     ]
    },
    {
     "name": "stderr",
     "output_type": "stream",
     "text": [
      " 75%|███████▌  | 3/4 [00:41<00:13, 13.81s/it]"
     ]
    },
    {
     "name": "stdout",
     "output_type": "stream",
     "text": [
      "Epoch: 3 | train_loss: 1.0996 | train_acc: 0.2812 | test_loss: 1.0898 | test_acc: 0.5417\n"
     ]
    },
    {
     "name": "stderr",
     "output_type": "stream",
     "text": [
      "100%|██████████| 4/4 [00:56<00:00, 14.13s/it]"
     ]
    },
    {
     "name": "stdout",
     "output_type": "stream",
     "text": [
      "Epoch: 4 | train_loss: 1.0997 | train_acc: 0.2812 | test_loss: 1.0898 | test_acc: 0.5417\n"
     ]
    },
    {
     "name": "stderr",
     "output_type": "stream",
     "text": [
      "\n"
     ]
    },
    {
     "data": {
      "text/plain": [
       "{'train_loss': [1.095619022846222,\n",
       "  1.1035260558128357,\n",
       "  1.0996392220258713,\n",
       "  1.0997427254915237],\n",
       " 'train_acc': [0.40234375, 0.28125, 0.28125, 0.28125],\n",
       " 'test_loss': [1.089814305305481,\n",
       "  1.089814305305481,\n",
       "  1.089814305305481,\n",
       "  1.089814305305481],\n",
       " 'test_acc': [0.5416666666666666,\n",
       "  0.5416666666666666,\n",
       "  0.5416666666666666,\n",
       "  0.5416666666666666]}"
      ]
     },
     "execution_count": 37,
     "metadata": {},
     "output_type": "execute_result"
    }
   ],
   "source": [
    "engine.train(\n",
    "\tmodel=model_v01,\n",
    "\ttrain_dataloader=train_dataloader,\n",
    "\ttest_dataloader=test_dataloader,\n",
    "\toptimizer=optimizer,\n",
    "\tloss_fn=loss_fn,\n",
    "\tepochs=NUM_EPOCHS,\n",
    "\tdevice=device \n",
    ")"
   ]
  },
  {
   "cell_type": "code",
   "execution_count": 40,
   "metadata": {},
   "outputs": [
    {
     "name": "stdout",
     "output_type": "stream",
     "text": [
      "[INFO] Saving model to: model\\Model_Sushi_Pizza_Steak.pth\n"
     ]
    }
   ],
   "source": [
    "from going_modular import utils\n",
    "\n",
    "# Save a model to a file\n",
    "utils.save_model(\n",
    "\tmodel=model_v01,\n",
    "\ttarget_dir=\"./model\",\n",
    "\tmodel_name=\"Model_Sushi_Pizza_Steak.pth\"\n",
    ")"
   ]
  },
  {
   "cell_type": "code",
   "execution_count": 41,
   "metadata": {},
   "outputs": [
    {
     "name": "stdout",
     "output_type": "stream",
     "text": [
      "Writing going_modular/train.py\n"
     ]
    }
   ],
   "source": [
    "%%writefile going_modular/train.py\n",
    "\n",
    "\"\"\"\n",
    "\tTrains a PyTorch image classification model using device-agnosic code\n",
    "\"\"\"\n",
    "\n",
    "import os\n",
    "import torch\n",
    "import data_setup, engine, model_builder, utils\n",
    "\n",
    "from torchvision import transforms\n",
    "\n",
    "# Hyperparameters\n",
    "NUM_EPOCHS = 5\n",
    "BATCH_SIZE = 32\n",
    "HIDDEN_UNITS = 10\n",
    "LEARNING_RATE = 0.001\n",
    "\n",
    "# Setup directories\n",
    "train_dir = \"data/pizza_steak_sushi/train\"\n",
    "test_dir = \"data/pizza_steak_sushi/test\"\n",
    "\n",
    "# Setup target device\n",
    "device = \"cuda\" if torch.cuda.is_available() else \"cpu\"\n",
    "\n",
    "data_transform = transforms.Compose(\n",
    "\ttransforms.Resize((64, 64)),\n",
    "\ttransforms.ToTensor()\n",
    ")\n",
    "\n",
    "train_dataloader, test_dataloader, class_names = data_setup.create_dataloaders(\n",
    "\ttrain_dir=train_dir,\n",
    "\ttest_dir=test_dir,\n",
    "\ttransform=data_transform,\n",
    "\tbatch_size=BATCH_SIZE\n",
    ")\n",
    "\n",
    "# model\n",
    "model = model_builder.TinyVGG(\n",
    "\tinput_shape=3,\n",
    "\thidden_units=HIDDEN_UNITS,\n",
    "\toutput_shape=len(class_names)\n",
    ").to(device)\n",
    "\n",
    "# loss function and optimizer\n",
    "loss_fn = torch.nn.CrossEntropyLoss()\n",
    "optimizer = torch.optim.Adam(model.parameters(), lr=LEARNING_RATE)\n",
    "\n",
    "# Start training with help from engine.py\n",
    "engine.train(\n",
    "\tmodel=model_v01,\n",
    "\ttrain_dataloader=train_dataloader,\n",
    "\ttest_dataloader=test_dataloader,\n",
    "\toptimizer=optimizer,\n",
    "\tloss_fn=loss_fn,\n",
    "\tepochs=NUM_EPOCHS,\n",
    "\tdevice=device \n",
    ")\n",
    "\n",
    "# Save a model with help from utils.py\n",
    "utils.save_model(\n",
    "\tmodel=model_v01,\n",
    "\ttarget_dir=\"./model\",\n",
    "\tmodel_name=\"Model_Sushi_Pizza_Steak.pth\"\n",
    ")"
   ]
  },
  {
   "cell_type": "code",
   "execution_count": 4,
   "metadata": {},
   "outputs": [
    {
     "name": "stdout",
     "output_type": "stream",
     "text": [
      "_StoreAction(option_strings=['-c', '--count'], dest='count', nargs=None, const=None, default=None, type=None, choices=None, required=False, help=None, metavar=None)\n"
     ]
    }
   ],
   "source": [
    "import argparse\n",
    "\n",
    "parser = argparse.ArgumentParser(\n",
    "                    prog='ProgramName',\n",
    "                    description='What the program does',\n",
    "                    epilog='Text at the bottom of help')\n",
    "\n",
    "print(parser.add_argument('-c', '--count'))      # option that takes a value\n"
   ]
  },
  {
   "cell_type": "code",
   "execution_count": 40,
   "metadata": {},
   "outputs": [
    {
     "name": "stdout",
     "output_type": "stream",
     "text": [
      "Writing prediction.py\n"
     ]
    }
   ],
   "source": [
    "%%writefile prediction.py\n",
    "\n",
    "import torch\n",
    "import torchvision\n",
    "from torchvision import transforms\n",
    "from typing import List\n",
    "import matplotlib.pyplot as plt\n",
    "import model_builder\n",
    "\n",
    "data_transform = transforms.Compose(\n",
    "\t[transforms.Resize((64, 64))]\n",
    ")\n",
    "\n",
    "device = \"cuda\" if torch.cuda.is_available() else \"cpu\"\n",
    "class_names = ['pizza', 'steak', 'sushi']\n",
    "MODEL_DICT_PATH = \"model/Model_Sushi_Pizza_Steak.pth\"\n",
    "EXAMPLE_PATH = \"./example.jpg\"\n",
    "model = model_builder.TinyVGG(input_shape=3, hidden_units=10, output_shape=3).to(device)\n",
    "model_state_dict = torch.load(MODEL_DICT_PATH, weights_only=True)\n",
    "model.load_state_dict(model_state_dict)\n",
    "\n",
    "def pred_and_plot_image(model: torch.nn.Module,\n",
    "\t\t\t\t\t\timage_path: str,\n",
    "\t\t\t\t\t\tclass_names: List[str],\n",
    "\t\t\t\t\t\ttransform=None,\n",
    "\t\t\t\t\t\tdevice: torch.device = device,\n",
    "\t\t\t\t\t\t):\n",
    "\n",
    "\ttarget_image = torchvision.io.read_image(str(image_path)).type(torch.float32)\n",
    "\n",
    "\tif transform:\n",
    "\t\ttarget_image = transform(target_image)\n",
    "\n",
    "\ttarget_image = target_image / 255\n",
    "\n",
    "\tmodel.to(device)\n",
    "\n",
    "\tmodel.eval()\n",
    "\twith torch.inference_mode():\n",
    "\t\ttarget_image = target_image.unsqueeze(dim=0)\n",
    "\n",
    "\t\ttarget_image_pred = model(target_image.to(device))\n",
    "\t\n",
    "\ttarget_image_pred_probs = torch.softmax(target_image_pred, dim=1)\n",
    "\ttarget_image_pred_label = torch.argmax(target_image_pred_probs, dim=1)\n",
    "\n",
    "\tplt.imshow(target_image.squeeze().permute(1, 2, 0)) # make sure it's the right size for matplotlib\n",
    "\tif class_names:\n",
    "\t    title = f\"Prediction: {class_names[target_image_pred_label.cpu()]} | Probability: {target_image_pred_probs.max().cpu():.3f}/1\"\n",
    "\telse: \n",
    "\t\ttitle = f\"Prediction: {target_image_pred_label} | Probability: {target_image_pred_probs.max().cpu():.3f}/1\"\n",
    "\tplt.title(title)\n",
    "\tplt.axis(False)\n",
    "\tplt.show()\n",
    "\n",
    "pred_and_plot_image(\n",
    "\tmodel=model,\n",
    "\timage_path=EXAMPLE_PATH,\n",
    "\tclass_names=class_names,\n",
    "\tdevice=device,\n",
    "\ttransform=data_transform,\n",
    ")"
   ]
  },
  {
   "cell_type": "code",
   "execution_count": null,
   "metadata": {},
   "outputs": [],
   "source": [
    "# `predict.py`\n",
    "\n",
    "base_path = \"./example.jpg\"\n",
    "\n"
   ]
  }
 ],
 "metadata": {
  "kernelspec": {
   "display_name": "Python 3",
   "language": "python",
   "name": "python3"
  },
  "language_info": {
   "codemirror_mode": {
    "name": "ipython",
    "version": 3
   },
   "file_extension": ".py",
   "mimetype": "text/x-python",
   "name": "python",
   "nbconvert_exporter": "python",
   "pygments_lexer": "ipython3",
   "version": "3.11.4"
  }
 },
 "nbformat": 4,
 "nbformat_minor": 2
}
